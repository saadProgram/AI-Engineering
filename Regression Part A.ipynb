{
 "cells": [
  {
   "cell_type": "code",
   "execution_count": 1,
   "id": "91eef804-83a2-4b72-be16-cca12d9c5170",
   "metadata": {
    "tags": []
   },
   "outputs": [],
   "source": [
    "# All Libraries required for this lab are listed below. The libraries pre-installed on Skills Network Labs are commented. \n",
    "# If you run this notebook on a different environment, e.g. your desktop, you may need to uncomment and install certain libraries.\n",
    "\n",
    "#!pip install numpy==1.21.4\n",
    "#!pip install pandas==1.3.4\n",
    "#!pip install keras==2.1.6"
   ]
  },
  {
   "cell_type": "markdown",
   "id": "c0753a22-c47f-4920-a14c-6f7f5ddb7517",
   "metadata": {},
   "source": [
    "Part A Build a baseline model"
   ]
  },
  {
   "cell_type": "code",
   "execution_count": 2,
   "id": "bef7cf23-723a-4805-a1b3-0a8723615a80",
   "metadata": {
    "tags": []
   },
   "outputs": [],
   "source": [
    "import pandas as pd\n",
    "import numpy as np"
   ]
  },
  {
   "cell_type": "markdown",
   "id": "1bb5fc70-9651-40aa-9f80-f2ac60d38f35",
   "metadata": {},
   "source": [
    "We must download the correct data in the next step"
   ]
  },
  {
   "cell_type": "code",
   "execution_count": 3,
   "id": "3e180c98-9f13-4d67-ae8b-01a366582aca",
   "metadata": {
    "tags": []
   },
   "outputs": [
    {
     "data": {
      "text/html": [
       "<div>\n",
       "<style scoped>\n",
       "    .dataframe tbody tr th:only-of-type {\n",
       "        vertical-align: middle;\n",
       "    }\n",
       "\n",
       "    .dataframe tbody tr th {\n",
       "        vertical-align: top;\n",
       "    }\n",
       "\n",
       "    .dataframe thead th {\n",
       "        text-align: right;\n",
       "    }\n",
       "</style>\n",
       "<table border=\"1\" class=\"dataframe\">\n",
       "  <thead>\n",
       "    <tr style=\"text-align: right;\">\n",
       "      <th></th>\n",
       "      <th>Cement</th>\n",
       "      <th>Blast Furnace Slag</th>\n",
       "      <th>Fly Ash</th>\n",
       "      <th>Water</th>\n",
       "      <th>Superplasticizer</th>\n",
       "      <th>Coarse Aggregate</th>\n",
       "      <th>Fine Aggregate</th>\n",
       "      <th>Age</th>\n",
       "      <th>Strength</th>\n",
       "    </tr>\n",
       "  </thead>\n",
       "  <tbody>\n",
       "    <tr>\n",
       "      <th>0</th>\n",
       "      <td>540.0</td>\n",
       "      <td>0.0</td>\n",
       "      <td>0.0</td>\n",
       "      <td>162.0</td>\n",
       "      <td>2.5</td>\n",
       "      <td>1040.0</td>\n",
       "      <td>676.0</td>\n",
       "      <td>28</td>\n",
       "      <td>79.99</td>\n",
       "    </tr>\n",
       "    <tr>\n",
       "      <th>1</th>\n",
       "      <td>540.0</td>\n",
       "      <td>0.0</td>\n",
       "      <td>0.0</td>\n",
       "      <td>162.0</td>\n",
       "      <td>2.5</td>\n",
       "      <td>1055.0</td>\n",
       "      <td>676.0</td>\n",
       "      <td>28</td>\n",
       "      <td>61.89</td>\n",
       "    </tr>\n",
       "    <tr>\n",
       "      <th>2</th>\n",
       "      <td>332.5</td>\n",
       "      <td>142.5</td>\n",
       "      <td>0.0</td>\n",
       "      <td>228.0</td>\n",
       "      <td>0.0</td>\n",
       "      <td>932.0</td>\n",
       "      <td>594.0</td>\n",
       "      <td>270</td>\n",
       "      <td>40.27</td>\n",
       "    </tr>\n",
       "    <tr>\n",
       "      <th>3</th>\n",
       "      <td>332.5</td>\n",
       "      <td>142.5</td>\n",
       "      <td>0.0</td>\n",
       "      <td>228.0</td>\n",
       "      <td>0.0</td>\n",
       "      <td>932.0</td>\n",
       "      <td>594.0</td>\n",
       "      <td>365</td>\n",
       "      <td>41.05</td>\n",
       "    </tr>\n",
       "    <tr>\n",
       "      <th>4</th>\n",
       "      <td>198.6</td>\n",
       "      <td>132.4</td>\n",
       "      <td>0.0</td>\n",
       "      <td>192.0</td>\n",
       "      <td>0.0</td>\n",
       "      <td>978.4</td>\n",
       "      <td>825.5</td>\n",
       "      <td>360</td>\n",
       "      <td>44.30</td>\n",
       "    </tr>\n",
       "  </tbody>\n",
       "</table>\n",
       "</div>"
      ],
      "text/plain": [
       "   Cement  Blast Furnace Slag  Fly Ash  Water  Superplasticizer  \\\n",
       "0   540.0                 0.0      0.0  162.0               2.5   \n",
       "1   540.0                 0.0      0.0  162.0               2.5   \n",
       "2   332.5               142.5      0.0  228.0               0.0   \n",
       "3   332.5               142.5      0.0  228.0               0.0   \n",
       "4   198.6               132.4      0.0  192.0               0.0   \n",
       "\n",
       "   Coarse Aggregate  Fine Aggregate  Age  Strength  \n",
       "0            1040.0           676.0   28     79.99  \n",
       "1            1055.0           676.0   28     61.89  \n",
       "2             932.0           594.0  270     40.27  \n",
       "3             932.0           594.0  365     41.05  \n",
       "4             978.4           825.5  360     44.30  "
      ]
     },
     "execution_count": 3,
     "metadata": {},
     "output_type": "execute_result"
    }
   ],
   "source": [
    "concrete_data = pd.read_csv('https://s3-api.us-geo.objectstorage.softlayer.net/cf-courses-data/CognitiveClass/DL0101EN/labs/data/concrete_data.csv')\n",
    "concrete_data.head()"
   ]
  },
  {
   "cell_type": "markdown",
   "id": "4a7c5b8d-e895-441a-9bce-c18db0279807",
   "metadata": {},
   "source": [
    "We need to check how many point we have"
   ]
  },
  {
   "cell_type": "code",
   "execution_count": 4,
   "id": "58724bb5-5878-45f1-9dfd-f3e94d9c5982",
   "metadata": {
    "tags": []
   },
   "outputs": [
    {
     "data": {
      "text/plain": [
       "(1030, 9)"
      ]
     },
     "execution_count": 4,
     "metadata": {},
     "output_type": "execute_result"
    }
   ],
   "source": [
    "concrete_data.shape"
   ]
  },
  {
   "cell_type": "markdown",
   "id": "e081b3a9-c3c4-4c18-a2bd-aba7fab294b6",
   "metadata": {},
   "source": [
    "We have 1000 samples to train our model. We need to be careful not to overfit the training data."
   ]
  },
  {
   "cell_type": "markdown",
   "id": "997b33c7-dc1d-4867-8f39-7da0e7b5b646",
   "metadata": {},
   "source": [
    "We need to check if the dataset have any missing value."
   ]
  },
  {
   "cell_type": "code",
   "execution_count": 5,
   "id": "0570a61b-63fa-48af-b442-ed7667779630",
   "metadata": {
    "tags": []
   },
   "outputs": [
    {
     "data": {
      "text/plain": [
       "Cement                0\n",
       "Blast Furnace Slag    0\n",
       "Fly Ash               0\n",
       "Water                 0\n",
       "Superplasticizer      0\n",
       "Coarse Aggregate      0\n",
       "Fine Aggregate        0\n",
       "Age                   0\n",
       "Strength              0\n",
       "dtype: int64"
      ]
     },
     "execution_count": 5,
     "metadata": {},
     "output_type": "execute_result"
    }
   ],
   "source": [
    "concrete_data.isnull().sum()"
   ]
  },
  {
   "cell_type": "markdown",
   "id": "52777d30-7c71-471f-8bf5-644248670eb2",
   "metadata": {},
   "source": [
    "Now we are going to split the target and the predictors"
   ]
  },
  {
   "cell_type": "code",
   "execution_count": 6,
   "id": "63a54de4-2543-49d7-b540-958dda7350bb",
   "metadata": {
    "tags": []
   },
   "outputs": [],
   "source": [
    "concrete_data_columns = concrete_data.columns\n",
    "\n",
    "predictors = concrete_data[concrete_data_columns[concrete_data_columns != 'Strength']] # all columns except Strength\n",
    "target = concrete_data['Strength'] # Strength column"
   ]
  },
  {
   "cell_type": "markdown",
   "id": "34792a5d-88fa-4556-bd14-7db7805d55ba",
   "metadata": {},
   "source": [
    "We check the split very quickly"
   ]
  },
  {
   "cell_type": "code",
   "execution_count": 7,
   "id": "9d784d2a-6283-4b83-828b-42e407e6b14a",
   "metadata": {
    "tags": []
   },
   "outputs": [
    {
     "data": {
      "text/html": [
       "<div>\n",
       "<style scoped>\n",
       "    .dataframe tbody tr th:only-of-type {\n",
       "        vertical-align: middle;\n",
       "    }\n",
       "\n",
       "    .dataframe tbody tr th {\n",
       "        vertical-align: top;\n",
       "    }\n",
       "\n",
       "    .dataframe thead th {\n",
       "        text-align: right;\n",
       "    }\n",
       "</style>\n",
       "<table border=\"1\" class=\"dataframe\">\n",
       "  <thead>\n",
       "    <tr style=\"text-align: right;\">\n",
       "      <th></th>\n",
       "      <th>Cement</th>\n",
       "      <th>Blast Furnace Slag</th>\n",
       "      <th>Fly Ash</th>\n",
       "      <th>Water</th>\n",
       "      <th>Superplasticizer</th>\n",
       "      <th>Coarse Aggregate</th>\n",
       "      <th>Fine Aggregate</th>\n",
       "      <th>Age</th>\n",
       "    </tr>\n",
       "  </thead>\n",
       "  <tbody>\n",
       "    <tr>\n",
       "      <th>0</th>\n",
       "      <td>540.0</td>\n",
       "      <td>0.0</td>\n",
       "      <td>0.0</td>\n",
       "      <td>162.0</td>\n",
       "      <td>2.5</td>\n",
       "      <td>1040.0</td>\n",
       "      <td>676.0</td>\n",
       "      <td>28</td>\n",
       "    </tr>\n",
       "    <tr>\n",
       "      <th>1</th>\n",
       "      <td>540.0</td>\n",
       "      <td>0.0</td>\n",
       "      <td>0.0</td>\n",
       "      <td>162.0</td>\n",
       "      <td>2.5</td>\n",
       "      <td>1055.0</td>\n",
       "      <td>676.0</td>\n",
       "      <td>28</td>\n",
       "    </tr>\n",
       "    <tr>\n",
       "      <th>2</th>\n",
       "      <td>332.5</td>\n",
       "      <td>142.5</td>\n",
       "      <td>0.0</td>\n",
       "      <td>228.0</td>\n",
       "      <td>0.0</td>\n",
       "      <td>932.0</td>\n",
       "      <td>594.0</td>\n",
       "      <td>270</td>\n",
       "    </tr>\n",
       "    <tr>\n",
       "      <th>3</th>\n",
       "      <td>332.5</td>\n",
       "      <td>142.5</td>\n",
       "      <td>0.0</td>\n",
       "      <td>228.0</td>\n",
       "      <td>0.0</td>\n",
       "      <td>932.0</td>\n",
       "      <td>594.0</td>\n",
       "      <td>365</td>\n",
       "    </tr>\n",
       "    <tr>\n",
       "      <th>4</th>\n",
       "      <td>198.6</td>\n",
       "      <td>132.4</td>\n",
       "      <td>0.0</td>\n",
       "      <td>192.0</td>\n",
       "      <td>0.0</td>\n",
       "      <td>978.4</td>\n",
       "      <td>825.5</td>\n",
       "      <td>360</td>\n",
       "    </tr>\n",
       "  </tbody>\n",
       "</table>\n",
       "</div>"
      ],
      "text/plain": [
       "   Cement  Blast Furnace Slag  Fly Ash  Water  Superplasticizer  \\\n",
       "0   540.0                 0.0      0.0  162.0               2.5   \n",
       "1   540.0                 0.0      0.0  162.0               2.5   \n",
       "2   332.5               142.5      0.0  228.0               0.0   \n",
       "3   332.5               142.5      0.0  228.0               0.0   \n",
       "4   198.6               132.4      0.0  192.0               0.0   \n",
       "\n",
       "   Coarse Aggregate  Fine Aggregate  Age  \n",
       "0            1040.0           676.0   28  \n",
       "1            1055.0           676.0   28  \n",
       "2             932.0           594.0  270  \n",
       "3             932.0           594.0  365  \n",
       "4             978.4           825.5  360  "
      ]
     },
     "execution_count": 7,
     "metadata": {},
     "output_type": "execute_result"
    }
   ],
   "source": [
    "predictors.head()"
   ]
  },
  {
   "cell_type": "code",
   "execution_count": 8,
   "id": "14c420b8-4cf8-456b-a68c-2a2ac12dccf3",
   "metadata": {
    "tags": []
   },
   "outputs": [
    {
     "data": {
      "text/plain": [
       "0    79.99\n",
       "1    61.89\n",
       "2    40.27\n",
       "3    41.05\n",
       "4    44.30\n",
       "Name: Strength, dtype: float64"
      ]
     },
     "execution_count": 8,
     "metadata": {},
     "output_type": "execute_result"
    }
   ],
   "source": [
    "target.head()"
   ]
  },
  {
   "cell_type": "markdown",
   "id": "cb841563-9afd-4a96-8a66-9b56ae4648c6",
   "metadata": {},
   "source": [
    "we need to khow how many predictors are in our model "
   ]
  },
  {
   "cell_type": "code",
   "execution_count": 9,
   "id": "8e1fee24-ce10-432c-b057-ab7a883947cc",
   "metadata": {
    "tags": []
   },
   "outputs": [
    {
     "name": "stdout",
     "output_type": "stream",
     "text": [
      "8\n"
     ]
    }
   ],
   "source": [
    "n_cols = predictors.shape[1] # number of predictors\n",
    "print(n_cols)"
   ]
  },
  {
   "cell_type": "markdown",
   "id": "a869fa57-d878-4fbf-ba0a-f49c75088587",
   "metadata": {},
   "source": [
    "Now we have the escential data to build our model"
   ]
  },
  {
   "cell_type": "code",
   "execution_count": 11,
   "id": "f9ed6043-a391-4b40-987f-b368f80163ed",
   "metadata": {
    "tags": []
   },
   "outputs": [],
   "source": [
    "import keras\n",
    "from keras.models import Sequential\n",
    "from keras.layers import Dense"
   ]
  },
  {
   "cell_type": "code",
   "execution_count": 12,
   "id": "1a7d819d-d91d-4203-ab09-fcdec75faaec",
   "metadata": {
    "tags": []
   },
   "outputs": [],
   "source": [
    "# define regression model\n",
    "def regression_model():\n",
    "    # create model\n",
    "    model = Sequential()\n",
    "    model.add(Dense(10, activation='relu', input_shape=(n_cols,)))\n",
    "    model.add(Dense(1))\n",
    "    \n",
    "    # compile model\n",
    "    model.compile(optimizer='adam', loss='mean_squared_error',metrics=['accuracy'])\n",
    "    return model"
   ]
  },
  {
   "cell_type": "code",
   "execution_count": 14,
   "id": "2ba0c3c6-0335-4ca9-9fbf-7ab9f229c8cc",
   "metadata": {
    "tags": []
   },
   "outputs": [],
   "source": [
    "model = regression_model()"
   ]
  },
  {
   "cell_type": "code",
   "execution_count": 16,
   "id": "c4763c62-e0e5-493f-8934-bce0ff4afabf",
   "metadata": {
    "tags": []
   },
   "outputs": [
    {
     "name": "stdout",
     "output_type": "stream",
     "text": [
      "Train on 721 samples, validate on 309 samples\n",
      "Epoch 1/50\n",
      " - 0s - loss: 137.0132 - acc: 0.0014 - val_loss: 116.1324 - val_acc: 0.0000e+00\n",
      "Epoch 2/50\n",
      " - 0s - loss: 134.6062 - acc: 0.0014 - val_loss: 113.8272 - val_acc: 0.0000e+00\n",
      "Epoch 3/50\n",
      " - 0s - loss: 134.7015 - acc: 0.0000e+00 - val_loss: 123.4388 - val_acc: 0.0065\n",
      "Epoch 4/50\n",
      " - 0s - loss: 133.1580 - acc: 0.0028 - val_loss: 115.7524 - val_acc: 0.0065\n",
      "Epoch 5/50\n",
      " - 0s - loss: 131.9643 - acc: 0.0000e+00 - val_loss: 127.9846 - val_acc: 0.0000e+00\n",
      "Epoch 6/50\n",
      " - 0s - loss: 135.9572 - acc: 0.0014 - val_loss: 115.7103 - val_acc: 0.0065\n",
      "Epoch 7/50\n",
      " - 0s - loss: 130.4337 - acc: 0.0000e+00 - val_loss: 110.1758 - val_acc: 0.0065\n",
      "Epoch 8/50\n",
      " - 0s - loss: 128.7808 - acc: 0.0000e+00 - val_loss: 115.3494 - val_acc: 0.0065\n",
      "Epoch 9/50\n",
      " - 0s - loss: 129.8036 - acc: 0.0014 - val_loss: 129.9355 - val_acc: 0.0000e+00\n",
      "Epoch 10/50\n",
      " - 0s - loss: 132.3820 - acc: 0.0000e+00 - val_loss: 113.9061 - val_acc: 0.0000e+00\n",
      "Epoch 11/50\n",
      " - 0s - loss: 128.3363 - acc: 0.0000e+00 - val_loss: 104.3612 - val_acc: 0.0000e+00\n",
      "Epoch 12/50\n",
      " - 0s - loss: 129.9004 - acc: 0.0014 - val_loss: 104.0535 - val_acc: 0.0000e+00\n",
      "Epoch 13/50\n",
      " - 0s - loss: 126.1181 - acc: 0.0000e+00 - val_loss: 105.1727 - val_acc: 0.0065\n",
      "Epoch 14/50\n",
      " - 0s - loss: 126.0711 - acc: 0.0000e+00 - val_loss: 102.2222 - val_acc: 0.0032\n",
      "Epoch 15/50\n",
      " - 0s - loss: 123.0999 - acc: 0.0000e+00 - val_loss: 109.0906 - val_acc: 0.0000e+00\n",
      "Epoch 16/50\n",
      " - 0s - loss: 124.2068 - acc: 0.0000e+00 - val_loss: 107.8919 - val_acc: 0.0000e+00\n",
      "Epoch 17/50\n",
      " - 0s - loss: 125.6868 - acc: 0.0014 - val_loss: 100.8043 - val_acc: 0.0000e+00\n",
      "Epoch 18/50\n",
      " - 0s - loss: 124.7912 - acc: 0.0000e+00 - val_loss: 99.5503 - val_acc: 0.0000e+00\n",
      "Epoch 19/50\n",
      " - 0s - loss: 121.4718 - acc: 0.0000e+00 - val_loss: 102.7705 - val_acc: 0.0000e+00\n",
      "Epoch 20/50\n",
      " - 0s - loss: 121.9000 - acc: 0.0000e+00 - val_loss: 115.3240 - val_acc: 0.0000e+00\n",
      "Epoch 21/50\n",
      " - 0s - loss: 120.6826 - acc: 0.0014 - val_loss: 106.4429 - val_acc: 0.0000e+00\n",
      "Epoch 22/50\n",
      " - 0s - loss: 120.4907 - acc: 0.0000e+00 - val_loss: 103.3804 - val_acc: 0.0000e+00\n",
      "Epoch 23/50\n",
      " - 0s - loss: 121.1772 - acc: 0.0014 - val_loss: 97.7175 - val_acc: 0.0065\n",
      "Epoch 24/50\n",
      " - 0s - loss: 122.2288 - acc: 0.0000e+00 - val_loss: 95.3812 - val_acc: 0.0000e+00\n",
      "Epoch 25/50\n",
      " - 0s - loss: 121.3539 - acc: 0.0014 - val_loss: 96.8688 - val_acc: 0.0000e+00\n",
      "Epoch 26/50\n",
      " - 0s - loss: 118.3208 - acc: 0.0000e+00 - val_loss: 99.5562 - val_acc: 0.0000e+00\n",
      "Epoch 27/50\n",
      " - 0s - loss: 117.3325 - acc: 0.0014 - val_loss: 99.3626 - val_acc: 0.0000e+00\n",
      "Epoch 28/50\n",
      " - 0s - loss: 116.8856 - acc: 0.0000e+00 - val_loss: 100.7224 - val_acc: 0.0000e+00\n",
      "Epoch 29/50\n",
      " - 0s - loss: 115.6323 - acc: 0.0014 - val_loss: 93.7769 - val_acc: 0.0000e+00\n",
      "Epoch 30/50\n",
      " - 0s - loss: 116.7709 - acc: 0.0014 - val_loss: 105.7866 - val_acc: 0.0000e+00\n",
      "Epoch 31/50\n",
      " - 0s - loss: 114.5371 - acc: 0.0014 - val_loss: 97.1824 - val_acc: 0.0000e+00\n",
      "Epoch 32/50\n",
      " - 0s - loss: 113.7374 - acc: 0.0000e+00 - val_loss: 95.3377 - val_acc: 0.0000e+00\n",
      "Epoch 33/50\n",
      " - 0s - loss: 112.8452 - acc: 0.0000e+00 - val_loss: 94.0157 - val_acc: 0.0000e+00\n",
      "Epoch 34/50\n",
      " - 0s - loss: 115.7801 - acc: 0.0000e+00 - val_loss: 91.5542 - val_acc: 0.0000e+00\n",
      "Epoch 35/50\n",
      " - 0s - loss: 117.1560 - acc: 0.0000e+00 - val_loss: 110.4293 - val_acc: 0.0000e+00\n",
      "Epoch 36/50\n",
      " - 0s - loss: 114.8295 - acc: 0.0000e+00 - val_loss: 95.1094 - val_acc: 0.0000e+00\n",
      "Epoch 37/50\n",
      " - 0s - loss: 115.2231 - acc: 0.0000e+00 - val_loss: 90.9598 - val_acc: 0.0000e+00\n",
      "Epoch 38/50\n",
      " - 0s - loss: 110.2439 - acc: 0.0014 - val_loss: 91.7960 - val_acc: 0.0000e+00\n",
      "Epoch 39/50\n",
      " - 0s - loss: 109.2176 - acc: 0.0000e+00 - val_loss: 88.1343 - val_acc: 0.0000e+00\n",
      "Epoch 40/50\n",
      " - 0s - loss: 111.1550 - acc: 0.0000e+00 - val_loss: 98.0993 - val_acc: 0.0000e+00\n",
      "Epoch 41/50\n",
      " - 0s - loss: 110.5297 - acc: 0.0000e+00 - val_loss: 86.9929 - val_acc: 0.0000e+00\n",
      "Epoch 42/50\n",
      " - 0s - loss: 113.4725 - acc: 0.0000e+00 - val_loss: 98.5916 - val_acc: 0.0000e+00\n",
      "Epoch 43/50\n",
      " - 0s - loss: 108.6471 - acc: 0.0000e+00 - val_loss: 110.2315 - val_acc: 0.0000e+00\n",
      "Epoch 44/50\n",
      " - 0s - loss: 109.2858 - acc: 0.0000e+00 - val_loss: 96.8862 - val_acc: 0.0000e+00\n",
      "Epoch 45/50\n",
      " - 0s - loss: 107.1371 - acc: 0.0000e+00 - val_loss: 90.7823 - val_acc: 0.0000e+00\n",
      "Epoch 46/50\n",
      " - 0s - loss: 105.8442 - acc: 0.0000e+00 - val_loss: 89.3339 - val_acc: 0.0000e+00\n",
      "Epoch 47/50\n",
      " - 0s - loss: 108.1329 - acc: 0.0000e+00 - val_loss: 95.9473 - val_acc: 0.0000e+00\n",
      "Epoch 48/50\n",
      " - 0s - loss: 105.0486 - acc: 0.0014 - val_loss: 101.7110 - val_acc: 0.0000e+00\n",
      "Epoch 49/50\n",
      " - 0s - loss: 105.5517 - acc: 0.0000e+00 - val_loss: 88.7322 - val_acc: 0.0000e+00\n",
      "Epoch 50/50\n",
      " - 0s - loss: 104.5286 - acc: 0.0014 - val_loss: 89.9709 - val_acc: 0.0000e+00\n"
     ]
    },
    {
     "data": {
      "text/plain": [
       "<keras.callbacks.History at 0x7f969995d790>"
      ]
     },
     "execution_count": 16,
     "metadata": {},
     "output_type": "execute_result"
    }
   ],
   "source": [
    "# fit the model\n",
    "model.fit(predictors, target, validation_split=0.3, epochs=50, verbose=2)"
   ]
  },
  {
   "cell_type": "markdown",
   "id": "649aab3e-53b6-4893-9e30-6fdb607265e5",
   "metadata": {},
   "source": []
  }
 ],
 "metadata": {
  "kernelspec": {
   "display_name": "Python",
   "language": "python",
   "name": "conda-env-python-py"
  },
  "language_info": {
   "codemirror_mode": {
    "name": "ipython",
    "version": 3
   },
   "file_extension": ".py",
   "mimetype": "text/x-python",
   "name": "python",
   "nbconvert_exporter": "python",
   "pygments_lexer": "ipython3",
   "version": "3.7.12"
  }
 },
 "nbformat": 4,
 "nbformat_minor": 5
}
